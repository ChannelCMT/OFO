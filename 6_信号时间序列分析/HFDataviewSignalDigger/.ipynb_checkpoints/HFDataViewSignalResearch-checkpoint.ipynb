{
 "cells": [
  {
   "cell_type": "markdown",
   "metadata": {},
   "source": [
    "# 择时信号研究\n",
    "一、 数据读取与处理\n",
    "\n",
    "二、 画图观察与构思算法\n",
    "\n",
    "三、 进场&时间出场&&止损止盈"
   ]
  },
  {
   "cell_type": "markdown",
   "metadata": {},
   "source": [
    "## 一、数据读取与处理\n",
    "1. 数据读取并转换成jaqs需要的数据格式\n",
    "3. 数据合并成不同周期"
   ]
  },
  {
   "cell_type": "markdown",
   "metadata": {},
   "source": [
    "### 1. 数据读取并转换成jaqs需要的数据格式\n",
    "    1. reset_index\n",
    "    2. datetime to int\n",
    "    3. add symbol column"
   ]
  },
  {
   "cell_type": "code",
   "execution_count": 1,
   "metadata": {
    "collapsed": true
   },
   "outputs": [],
   "source": [
    "import pandas as pd\n",
    "HFData = pd.read_excel('HFData1M.xlsx').set_index('datetime')"
   ]
  },
  {
   "cell_type": "code",
   "execution_count": 2,
   "metadata": {
    "collapsed": true
   },
   "outputs": [],
   "source": [
    "# reset_index\n",
    "# dataResample\n",
    "def dt2int(t):\n",
    "    return t.year*10**10+t.month*10**8+t.day*10**6+t.hour*10**4+t.minute*10**2+t.second\n",
    "\n",
    "def modifyDf(data, symbol):\n",
    "    assert isinstance(data, pd.DataFrame)\n",
    "    data = data.reset_index()\n",
    "    data['trade_date'] = data['datetime'].apply(dt2int)\n",
    "    data['symbol'] = symbol\n",
    "    return data"
   ]
  },
  {
   "cell_type": "code",
   "execution_count": 3,
   "metadata": {
    "collapsed": true
   },
   "outputs": [],
   "source": [
    "dataIf = modifyDf(HFData, 'IF88_CTP')"
   ]
  },
  {
   "cell_type": "code",
   "execution_count": 4,
   "metadata": {},
   "outputs": [
    {
     "data": {
      "text/html": [
       "<div>\n",
       "<style>\n",
       "    .dataframe thead tr:only-child th {\n",
       "        text-align: right;\n",
       "    }\n",
       "\n",
       "    .dataframe thead th {\n",
       "        text-align: left;\n",
       "    }\n",
       "\n",
       "    .dataframe tbody tr th {\n",
       "        vertical-align: top;\n",
       "    }\n",
       "</style>\n",
       "<table border=\"1\" class=\"dataframe\">\n",
       "  <thead>\n",
       "    <tr style=\"text-align: right;\">\n",
       "      <th></th>\n",
       "      <th>datetime</th>\n",
       "      <th>close</th>\n",
       "      <th>date</th>\n",
       "      <th>exchange</th>\n",
       "      <th>high</th>\n",
       "      <th>low</th>\n",
       "      <th>open</th>\n",
       "      <th>openInterest</th>\n",
       "      <th>symbol</th>\n",
       "      <th>time</th>\n",
       "      <th>trading_date</th>\n",
       "      <th>volume</th>\n",
       "      <th>vtSymbol</th>\n",
       "      <th>trade_date</th>\n",
       "    </tr>\n",
       "  </thead>\n",
       "  <tbody>\n",
       "    <tr>\n",
       "      <th>43435</th>\n",
       "      <td>2019-02-28 14:55:00</td>\n",
       "      <td>3678.8</td>\n",
       "      <td>20190228</td>\n",
       "      <td>CTP</td>\n",
       "      <td>3680.4</td>\n",
       "      <td>3678.6</td>\n",
       "      <td>3679.6</td>\n",
       "      <td>69005</td>\n",
       "      <td>IF88_CTP</td>\n",
       "      <td>14:55:00</td>\n",
       "      <td>2019-02-28</td>\n",
       "      <td>292</td>\n",
       "      <td>IF88:CTP</td>\n",
       "      <td>20190228145500</td>\n",
       "    </tr>\n",
       "    <tr>\n",
       "      <th>43436</th>\n",
       "      <td>2019-02-28 14:56:00</td>\n",
       "      <td>3680.0</td>\n",
       "      <td>20190228</td>\n",
       "      <td>CTP</td>\n",
       "      <td>3681.4</td>\n",
       "      <td>3678.6</td>\n",
       "      <td>3678.8</td>\n",
       "      <td>69149</td>\n",
       "      <td>IF88_CTP</td>\n",
       "      <td>14:56:00</td>\n",
       "      <td>2019-02-28</td>\n",
       "      <td>344</td>\n",
       "      <td>IF88:CTP</td>\n",
       "      <td>20190228145600</td>\n",
       "    </tr>\n",
       "    <tr>\n",
       "      <th>43437</th>\n",
       "      <td>2019-02-28 14:57:00</td>\n",
       "      <td>3682.0</td>\n",
       "      <td>20190228</td>\n",
       "      <td>CTP</td>\n",
       "      <td>3683.0</td>\n",
       "      <td>3679.6</td>\n",
       "      <td>3679.8</td>\n",
       "      <td>69314</td>\n",
       "      <td>IF88_CTP</td>\n",
       "      <td>14:57:00</td>\n",
       "      <td>2019-02-28</td>\n",
       "      <td>437</td>\n",
       "      <td>IF88:CTP</td>\n",
       "      <td>20190228145700</td>\n",
       "    </tr>\n",
       "    <tr>\n",
       "      <th>43438</th>\n",
       "      <td>2019-02-28 14:58:00</td>\n",
       "      <td>3679.6</td>\n",
       "      <td>20190228</td>\n",
       "      <td>CTP</td>\n",
       "      <td>3684.4</td>\n",
       "      <td>3679.6</td>\n",
       "      <td>3682.0</td>\n",
       "      <td>69540</td>\n",
       "      <td>IF88_CTP</td>\n",
       "      <td>14:58:00</td>\n",
       "      <td>2019-02-28</td>\n",
       "      <td>518</td>\n",
       "      <td>IF88:CTP</td>\n",
       "      <td>20190228145800</td>\n",
       "    </tr>\n",
       "    <tr>\n",
       "      <th>43439</th>\n",
       "      <td>2019-02-28 14:59:00</td>\n",
       "      <td>3677.4</td>\n",
       "      <td>20190228</td>\n",
       "      <td>CTP</td>\n",
       "      <td>3681.2</td>\n",
       "      <td>3677.2</td>\n",
       "      <td>3679.6</td>\n",
       "      <td>69794</td>\n",
       "      <td>IF88_CTP</td>\n",
       "      <td>14:59:00</td>\n",
       "      <td>2019-02-28</td>\n",
       "      <td>605</td>\n",
       "      <td>IF88:CTP</td>\n",
       "      <td>20190228145900</td>\n",
       "    </tr>\n",
       "  </tbody>\n",
       "</table>\n",
       "</div>"
      ],
      "text/plain": [
       "                 datetime   close      date exchange    high     low    open  \\\n",
       "43435 2019-02-28 14:55:00  3678.8  20190228      CTP  3680.4  3678.6  3679.6   \n",
       "43436 2019-02-28 14:56:00  3680.0  20190228      CTP  3681.4  3678.6  3678.8   \n",
       "43437 2019-02-28 14:57:00  3682.0  20190228      CTP  3683.0  3679.6  3679.8   \n",
       "43438 2019-02-28 14:58:00  3679.6  20190228      CTP  3684.4  3679.6  3682.0   \n",
       "43439 2019-02-28 14:59:00  3677.4  20190228      CTP  3681.2  3677.2  3679.6   \n",
       "\n",
       "       openInterest    symbol      time trading_date  volume  vtSymbol  \\\n",
       "43435         69005  IF88_CTP  14:55:00   2019-02-28     292  IF88:CTP   \n",
       "43436         69149  IF88_CTP  14:56:00   2019-02-28     344  IF88:CTP   \n",
       "43437         69314  IF88_CTP  14:57:00   2019-02-28     437  IF88:CTP   \n",
       "43438         69540  IF88_CTP  14:58:00   2019-02-28     518  IF88:CTP   \n",
       "43439         69794  IF88_CTP  14:59:00   2019-02-28     605  IF88:CTP   \n",
       "\n",
       "           trade_date  \n",
       "43435  20190228145500  \n",
       "43436  20190228145600  \n",
       "43437  20190228145700  \n",
       "43438  20190228145800  \n",
       "43439  20190228145900  "
      ]
     },
     "execution_count": 4,
     "metadata": {},
     "output_type": "execute_result"
    }
   ],
   "source": [
    "dataIf.tail()"
   ]
  },
  {
   "cell_type": "markdown",
   "metadata": {},
   "source": [
    "### 2. 数据合并成不同周期\n",
    "    1. resample\n",
    "    2. agg"
   ]
  },
  {
   "cell_type": "code",
   "execution_count": 5,
   "metadata": {
    "collapsed": true
   },
   "outputs": [],
   "source": [
    "def resampleDf(data, freq='H'):\n",
    "    return data.resample(freq).agg({'open':'first', 'high': 'max', 'low': 'min', 'close': 'last', 'volume':'sum'})\n",
    "\n",
    "dataResample = resampleDf(HFData, '15Min')\n",
    "dataIf15 = modifyDf(dataResample, 'IF88_CTP')"
   ]
  },
  {
   "cell_type": "code",
   "execution_count": 6,
   "metadata": {},
   "outputs": [
    {
     "data": {
      "text/html": [
       "<div>\n",
       "<style>\n",
       "    .dataframe thead tr:only-child th {\n",
       "        text-align: right;\n",
       "    }\n",
       "\n",
       "    .dataframe thead th {\n",
       "        text-align: left;\n",
       "    }\n",
       "\n",
       "    .dataframe tbody tr th {\n",
       "        vertical-align: top;\n",
       "    }\n",
       "</style>\n",
       "<table border=\"1\" class=\"dataframe\">\n",
       "  <thead>\n",
       "    <tr style=\"text-align: right;\">\n",
       "      <th></th>\n",
       "      <th>datetime</th>\n",
       "      <th>open</th>\n",
       "      <th>high</th>\n",
       "      <th>low</th>\n",
       "      <th>close</th>\n",
       "      <th>volume</th>\n",
       "      <th>trade_date</th>\n",
       "      <th>symbol</th>\n",
       "    </tr>\n",
       "  </thead>\n",
       "  <tbody>\n",
       "    <tr>\n",
       "      <th>26129</th>\n",
       "      <td>2019-02-28 13:45:00</td>\n",
       "      <td>3676.4</td>\n",
       "      <td>3681.6</td>\n",
       "      <td>3668.0</td>\n",
       "      <td>3668.6</td>\n",
       "      <td>4641.0</td>\n",
       "      <td>20190228134500</td>\n",
       "      <td>IF88_CTP</td>\n",
       "    </tr>\n",
       "    <tr>\n",
       "      <th>26130</th>\n",
       "      <td>2019-02-28 14:00:00</td>\n",
       "      <td>3668.6</td>\n",
       "      <td>3683.8</td>\n",
       "      <td>3667.2</td>\n",
       "      <td>3679.2</td>\n",
       "      <td>3424.0</td>\n",
       "      <td>20190228140000</td>\n",
       "      <td>IF88_CTP</td>\n",
       "    </tr>\n",
       "    <tr>\n",
       "      <th>26131</th>\n",
       "      <td>2019-02-28 14:15:00</td>\n",
       "      <td>3679.2</td>\n",
       "      <td>3680.8</td>\n",
       "      <td>3664.2</td>\n",
       "      <td>3678.6</td>\n",
       "      <td>4146.0</td>\n",
       "      <td>20190228141500</td>\n",
       "      <td>IF88_CTP</td>\n",
       "    </tr>\n",
       "    <tr>\n",
       "      <th>26132</th>\n",
       "      <td>2019-02-28 14:30:00</td>\n",
       "      <td>3679.0</td>\n",
       "      <td>3687.4</td>\n",
       "      <td>3668.4</td>\n",
       "      <td>3671.2</td>\n",
       "      <td>4397.0</td>\n",
       "      <td>20190228143000</td>\n",
       "      <td>IF88_CTP</td>\n",
       "    </tr>\n",
       "    <tr>\n",
       "      <th>26133</th>\n",
       "      <td>2019-02-28 14:45:00</td>\n",
       "      <td>3671.2</td>\n",
       "      <td>3684.4</td>\n",
       "      <td>3667.2</td>\n",
       "      <td>3677.4</td>\n",
       "      <td>4624.0</td>\n",
       "      <td>20190228144500</td>\n",
       "      <td>IF88_CTP</td>\n",
       "    </tr>\n",
       "  </tbody>\n",
       "</table>\n",
       "</div>"
      ],
      "text/plain": [
       "                 datetime    open    high     low   close  volume  \\\n",
       "26129 2019-02-28 13:45:00  3676.4  3681.6  3668.0  3668.6  4641.0   \n",
       "26130 2019-02-28 14:00:00  3668.6  3683.8  3667.2  3679.2  3424.0   \n",
       "26131 2019-02-28 14:15:00  3679.2  3680.8  3664.2  3678.6  4146.0   \n",
       "26132 2019-02-28 14:30:00  3679.0  3687.4  3668.4  3671.2  4397.0   \n",
       "26133 2019-02-28 14:45:00  3671.2  3684.4  3667.2  3677.4  4624.0   \n",
       "\n",
       "           trade_date    symbol  \n",
       "26129  20190228134500  IF88_CTP  \n",
       "26130  20190228140000  IF88_CTP  \n",
       "26131  20190228141500  IF88_CTP  \n",
       "26132  20190228143000  IF88_CTP  \n",
       "26133  20190228144500  IF88_CTP  "
      ]
     },
     "execution_count": 6,
     "metadata": {},
     "output_type": "execute_result"
    }
   ],
   "source": [
    "dataIf15.tail()"
   ]
  },
  {
   "cell_type": "code",
   "execution_count": 7,
   "metadata": {
    "collapsed": true
   },
   "outputs": [],
   "source": [
    "# 整数转Datetime\n",
    "from datetime import datetime\n",
    "dataIf15['datetimeType'] = list(map(lambda x : datetime.strptime(str(x), \"%Y%m%d%H%M%S\"), dataIf15.trade_date))"
   ]
  },
  {
   "cell_type": "markdown",
   "metadata": {},
   "source": [
    "## 二、 算法与画图观察\n",
    "1. 安装jaqs_fxdayu\n",
    "2. 将数据导入HFDataView\n",
    "3. 算法使用与画图观察\n",
    "4. talib\n",
    "5. 画图去除停牌时间\n",
    "6. 观察并设计算法"
   ]
  },
  {
   "cell_type": "markdown",
   "metadata": {},
   "source": [
    "### 1. 安装jaqs_fxdayu: \n",
    "pip install git+https://github.com/xingetouzi/jaqs-fxdayu.git"
   ]
  },
  {
   "cell_type": "code",
   "execution_count": 8,
   "metadata": {},
   "outputs": [
    {
     "name": "stderr",
     "output_type": "stream",
     "text": [
      "D:\\Anaconda3\\lib\\importlib\\__init__.py:126: FutureWarning: Conversion of the second argument of issubdtype from `float` to `np.floating` is deprecated. In future, it will be treated as `np.float64 == np.dtype(float).type`.\n",
      "  return _bootstrap._gcd_import(name[level:], package, level)\n"
     ]
    }
   ],
   "source": [
    "# import\n",
    "from jaqs_fxdayu.data.hf_dataview import HFDataView"
   ]
  },
  {
   "cell_type": "markdown",
   "metadata": {},
   "source": [
    "### 2. 将数据导入HFDataView\n",
    "    1. instantiation\n",
    "    2. create_inti_dv"
   ]
  },
  {
   "cell_type": "code",
   "execution_count": 9,
   "metadata": {},
   "outputs": [
    {
     "name": "stdout",
     "output_type": "stream",
     "text": [
      "Initialize dataview success.\n"
     ]
    }
   ],
   "source": [
    "# instantiation\n",
    "dv = HFDataView()\n",
    "# create_inti_dv\n",
    "dv.create_init_dv(dataIf.dropna().set_index(['trade_date', 'symbol']))"
   ]
  },
  {
   "cell_type": "code",
   "execution_count": 10,
   "metadata": {},
   "outputs": [
    {
     "name": "stdout",
     "output_type": "stream",
     "text": [
      "Initialize dataview success.\n"
     ]
    }
   ],
   "source": [
    "dv15 = HFDataView()\n",
    "dv15.create_init_dv(dataIf15.dropna().set_index(['trade_date', 'symbol']))"
   ]
  },
  {
   "cell_type": "code",
   "execution_count": 11,
   "metadata": {},
   "outputs": [
    {
     "data": {
      "text/plain": [
       "array(['+', '-', '*', '/', 'Sign(x)', 'Abs(x)', 'Log(x)', '-x', '^',\n",
       "       'Pow(x,y)', 'SignedPower(x,e)', '%', '==', '!=', '>', '<', '>=',\n",
       "       '<=', '&&', '||', '!', 'IsNan(x)', 'Sin(x)', 'Cos(x)', 'Tan(x)',\n",
       "       'Sqrt(x)', 'Ceil(x)', 'Floor(x)', 'Round(x)', 'Max(x,y)',\n",
       "       'Min(x,y)', 'If(cond,x,y)', 'Delay(x,n)', 'Ts_Sum(x,n)',\n",
       "       'Ts_Product(x,n)', 'Delta(x,n)', 'Return(x,n,log)', 'Ts_Mean(x，n)',\n",
       "       'StdDev(x,n)', 'Covariance(x,y,n)', 'Correlation(x,y,n)',\n",
       "       'Ts_Min(x，n)', 'Ts_Max(x，n)', 'Ts_Skewness(x，n)',\n",
       "       'Ts_Kurtosis(x，n)', 'Ts_Rank(x, n)', 'Ts_Percentile(x, n)',\n",
       "       'Ts_Quantile(x, n)', 'Ewma(x, halflife)', 'Rank(x)',\n",
       "       'GroupRank(x,g)', 'Percentile(x)', 'GroupPercentile(x, g, n)',\n",
       "       'ConditionRank(x, cond)', 'Quantile(x, n)',\n",
       "       'GroupQuantile(x, g, n)', 'Standardize(x)', 'Cutoff(x, z_score)',\n",
       "       'CumToSingle(x)', 'TTM(x)', 'Decay_exp(x,f,n)',\n",
       "       'Decay_linear(x,n)', 'Tail(x, lower, upper, newval)', 'Step(n)',\n",
       "       'CountNans(x,n)', 'Ts_Argmax(x,n)', 'Ts_Argmin(x,n)',\n",
       "       'Ta(ta_method,ta_column,open,high,low,close,volume,*args)'],\n",
       "      dtype=object)"
      ]
     },
     "execution_count": 11,
     "metadata": {},
     "output_type": "execute_result"
    }
   ],
   "source": [
    "# 查看函数\n",
    "dv.func_doc.funcs"
   ]
  },
  {
   "cell_type": "code",
   "execution_count": 12,
   "metadata": {},
   "outputs": [
    {
     "data": {
      "text/html": [
       "<div>\n",
       "<style>\n",
       "    .dataframe thead tr:only-child th {\n",
       "        text-align: right;\n",
       "    }\n",
       "\n",
       "    .dataframe thead th {\n",
       "        text-align: left;\n",
       "    }\n",
       "\n",
       "    .dataframe tbody tr th {\n",
       "        vertical-align: top;\n",
       "    }\n",
       "</style>\n",
       "<table border=\"1\" class=\"dataframe\">\n",
       "  <thead>\n",
       "    <tr style=\"text-align: right;\">\n",
       "      <th></th>\n",
       "      <th>分类</th>\n",
       "      <th>说明</th>\n",
       "      <th>公式</th>\n",
       "      <th>示例</th>\n",
       "    </tr>\n",
       "  </thead>\n",
       "  <tbody>\n",
       "    <tr>\n",
       "      <th>31</th>\n",
       "      <td>选择函数</td>\n",
       "      <td>cond为True取x的值，反之取y的值</td>\n",
       "      <td>If(cond,x,y)</td>\n",
       "      <td>If(close &gt; open, close, open) 表示取open和close的较大值</td>\n",
       "    </tr>\n",
       "  </tbody>\n",
       "</table>\n",
       "</div>"
      ],
      "text/plain": [
       "      分类                    说明            公式  \\\n",
       "31  选择函数  cond为True取x的值，反之取y的值  If(cond,x,y)   \n",
       "\n",
       "                                                 示例  \n",
       "31  If(close > open, close, open) 表示取open和close的较大值  "
      ]
     },
     "execution_count": 12,
     "metadata": {},
     "output_type": "execute_result"
    }
   ],
   "source": [
    "# 查看函数定义\n",
    "dv.func_doc.doc[dv.func_doc.doc['公式']=='If(cond,x,y)']"
   ]
  },
  {
   "cell_type": "code",
   "execution_count": 13,
   "metadata": {},
   "outputs": [
    {
     "data": {
      "text/html": [
       "<div>\n",
       "<style>\n",
       "    .dataframe thead tr:only-child th {\n",
       "        text-align: right;\n",
       "    }\n",
       "\n",
       "    .dataframe thead th {\n",
       "        text-align: left;\n",
       "    }\n",
       "\n",
       "    .dataframe tbody tr th {\n",
       "        vertical-align: top;\n",
       "    }\n",
       "</style>\n",
       "<table border=\"1\" class=\"dataframe\">\n",
       "  <thead>\n",
       "    <tr>\n",
       "      <th>symbol</th>\n",
       "      <th colspan=\"12\" halign=\"left\">IF88_CTP</th>\n",
       "    </tr>\n",
       "    <tr>\n",
       "      <th>field</th>\n",
       "      <th>close</th>\n",
       "      <th>date</th>\n",
       "      <th>datetime</th>\n",
       "      <th>exchange</th>\n",
       "      <th>high</th>\n",
       "      <th>low</th>\n",
       "      <th>open</th>\n",
       "      <th>openInterest</th>\n",
       "      <th>time</th>\n",
       "      <th>trading_date</th>\n",
       "      <th>volume</th>\n",
       "      <th>vtSymbol</th>\n",
       "    </tr>\n",
       "    <tr>\n",
       "      <th>trade_date</th>\n",
       "      <th></th>\n",
       "      <th></th>\n",
       "      <th></th>\n",
       "      <th></th>\n",
       "      <th></th>\n",
       "      <th></th>\n",
       "      <th></th>\n",
       "      <th></th>\n",
       "      <th></th>\n",
       "      <th></th>\n",
       "      <th></th>\n",
       "      <th></th>\n",
       "    </tr>\n",
       "  </thead>\n",
       "  <tbody>\n",
       "    <tr>\n",
       "      <th>20190228145500</th>\n",
       "      <td>3678.8</td>\n",
       "      <td>20190228</td>\n",
       "      <td>2019-02-28 14:55:00</td>\n",
       "      <td>CTP</td>\n",
       "      <td>3680.4</td>\n",
       "      <td>3678.6</td>\n",
       "      <td>3679.6</td>\n",
       "      <td>69005</td>\n",
       "      <td>14:55:00</td>\n",
       "      <td>2019-02-28</td>\n",
       "      <td>292</td>\n",
       "      <td>IF88:CTP</td>\n",
       "    </tr>\n",
       "    <tr>\n",
       "      <th>20190228145600</th>\n",
       "      <td>3680.0</td>\n",
       "      <td>20190228</td>\n",
       "      <td>2019-02-28 14:56:00</td>\n",
       "      <td>CTP</td>\n",
       "      <td>3681.4</td>\n",
       "      <td>3678.6</td>\n",
       "      <td>3678.8</td>\n",
       "      <td>69149</td>\n",
       "      <td>14:56:00</td>\n",
       "      <td>2019-02-28</td>\n",
       "      <td>344</td>\n",
       "      <td>IF88:CTP</td>\n",
       "    </tr>\n",
       "    <tr>\n",
       "      <th>20190228145700</th>\n",
       "      <td>3682.0</td>\n",
       "      <td>20190228</td>\n",
       "      <td>2019-02-28 14:57:00</td>\n",
       "      <td>CTP</td>\n",
       "      <td>3683.0</td>\n",
       "      <td>3679.6</td>\n",
       "      <td>3679.8</td>\n",
       "      <td>69314</td>\n",
       "      <td>14:57:00</td>\n",
       "      <td>2019-02-28</td>\n",
       "      <td>437</td>\n",
       "      <td>IF88:CTP</td>\n",
       "    </tr>\n",
       "    <tr>\n",
       "      <th>20190228145800</th>\n",
       "      <td>3679.6</td>\n",
       "      <td>20190228</td>\n",
       "      <td>2019-02-28 14:58:00</td>\n",
       "      <td>CTP</td>\n",
       "      <td>3684.4</td>\n",
       "      <td>3679.6</td>\n",
       "      <td>3682.0</td>\n",
       "      <td>69540</td>\n",
       "      <td>14:58:00</td>\n",
       "      <td>2019-02-28</td>\n",
       "      <td>518</td>\n",
       "      <td>IF88:CTP</td>\n",
       "    </tr>\n",
       "    <tr>\n",
       "      <th>20190228145900</th>\n",
       "      <td>3677.4</td>\n",
       "      <td>20190228</td>\n",
       "      <td>2019-02-28 14:59:00</td>\n",
       "      <td>CTP</td>\n",
       "      <td>3681.2</td>\n",
       "      <td>3677.2</td>\n",
       "      <td>3679.6</td>\n",
       "      <td>69794</td>\n",
       "      <td>14:59:00</td>\n",
       "      <td>2019-02-28</td>\n",
       "      <td>605</td>\n",
       "      <td>IF88:CTP</td>\n",
       "    </tr>\n",
       "  </tbody>\n",
       "</table>\n",
       "</div>"
      ],
      "text/plain": [
       "symbol         IF88_CTP                                                 \\\n",
       "field             close      date            datetime exchange    high   \n",
       "trade_date                                                               \n",
       "20190228145500   3678.8  20190228 2019-02-28 14:55:00      CTP  3680.4   \n",
       "20190228145600   3680.0  20190228 2019-02-28 14:56:00      CTP  3681.4   \n",
       "20190228145700   3682.0  20190228 2019-02-28 14:57:00      CTP  3683.0   \n",
       "20190228145800   3679.6  20190228 2019-02-28 14:58:00      CTP  3684.4   \n",
       "20190228145900   3677.4  20190228 2019-02-28 14:59:00      CTP  3681.2   \n",
       "\n",
       "symbol                                                                     \\\n",
       "field              low    open openInterest      time trading_date volume   \n",
       "trade_date                                                                  \n",
       "20190228145500  3678.6  3679.6        69005  14:55:00   2019-02-28    292   \n",
       "20190228145600  3678.6  3678.8        69149  14:56:00   2019-02-28    344   \n",
       "20190228145700  3679.6  3679.8        69314  14:57:00   2019-02-28    437   \n",
       "20190228145800  3679.6  3682.0        69540  14:58:00   2019-02-28    518   \n",
       "20190228145900  3677.2  3679.6        69794  14:59:00   2019-02-28    605   \n",
       "\n",
       "symbol                    \n",
       "field           vtSymbol  \n",
       "trade_date                \n",
       "20190228145500  IF88:CTP  \n",
       "20190228145600  IF88:CTP  \n",
       "20190228145700  IF88:CTP  \n",
       "20190228145800  IF88:CTP  \n",
       "20190228145900  IF88:CTP  "
      ]
     },
     "execution_count": 13,
     "metadata": {},
     "output_type": "execute_result"
    }
   ],
   "source": [
    "dv.data.tail()"
   ]
  },
  {
   "cell_type": "markdown",
   "metadata": {},
   "source": [
    "### 3. 算法使用与画图观察\n",
    "    1. add_formula\n",
    "    2. get_ts"
   ]
  },
  {
   "cell_type": "code",
   "execution_count": 14,
   "metadata": {
    "collapsed": true
   },
   "outputs": [],
   "source": [
    "# add_formula\n",
    "gap = dv.add_formula('Gap','close-Delay(open, 1)', add_data=True)"
   ]
  },
  {
   "cell_type": "code",
   "execution_count": 15,
   "metadata": {
    "collapsed": true
   },
   "outputs": [],
   "source": [
    "# dv.add_formula?"
   ]
  },
  {
   "cell_type": "code",
   "execution_count": 16,
   "metadata": {},
   "outputs": [
    {
     "data": {
      "text/html": [
       "<div>\n",
       "<style>\n",
       "    .dataframe thead tr:only-child th {\n",
       "        text-align: right;\n",
       "    }\n",
       "\n",
       "    .dataframe thead th {\n",
       "        text-align: left;\n",
       "    }\n",
       "\n",
       "    .dataframe tbody tr th {\n",
       "        vertical-align: top;\n",
       "    }\n",
       "</style>\n",
       "<table border=\"1\" class=\"dataframe\">\n",
       "  <thead>\n",
       "    <tr style=\"text-align: right;\">\n",
       "      <th>symbol</th>\n",
       "      <th>IF88_CTP</th>\n",
       "    </tr>\n",
       "    <tr>\n",
       "      <th>trade_date</th>\n",
       "      <th></th>\n",
       "    </tr>\n",
       "  </thead>\n",
       "  <tbody>\n",
       "    <tr>\n",
       "      <th>20190228145500</th>\n",
       "      <td>-1.6</td>\n",
       "    </tr>\n",
       "    <tr>\n",
       "      <th>20190228145600</th>\n",
       "      <td>0.4</td>\n",
       "    </tr>\n",
       "    <tr>\n",
       "      <th>20190228145700</th>\n",
       "      <td>3.2</td>\n",
       "    </tr>\n",
       "    <tr>\n",
       "      <th>20190228145800</th>\n",
       "      <td>-0.2</td>\n",
       "    </tr>\n",
       "    <tr>\n",
       "      <th>20190228145900</th>\n",
       "      <td>-4.6</td>\n",
       "    </tr>\n",
       "  </tbody>\n",
       "</table>\n",
       "</div>"
      ],
      "text/plain": [
       "symbol          IF88_CTP\n",
       "trade_date              \n",
       "20190228145500      -1.6\n",
       "20190228145600       0.4\n",
       "20190228145700       3.2\n",
       "20190228145800      -0.2\n",
       "20190228145900      -4.6"
      ]
     },
     "execution_count": 16,
     "metadata": {},
     "output_type": "execute_result"
    }
   ],
   "source": [
    "# algorithm\n",
    "gap.tail()"
   ]
  },
  {
   "cell_type": "code",
   "execution_count": 17,
   "metadata": {
    "collapsed": true
   },
   "outputs": [],
   "source": [
    "# get_ts\n",
    "gapDt = dv.get_ts('Gap', date_type='datetime')"
   ]
  },
  {
   "cell_type": "code",
   "execution_count": 18,
   "metadata": {
    "collapsed": true
   },
   "outputs": [],
   "source": [
    "# dv.get_ts?"
   ]
  },
  {
   "cell_type": "code",
   "execution_count": 19,
   "metadata": {},
   "outputs": [
    {
     "data": {
      "text/html": [
       "<div>\n",
       "<style>\n",
       "    .dataframe thead tr:only-child th {\n",
       "        text-align: right;\n",
       "    }\n",
       "\n",
       "    .dataframe thead th {\n",
       "        text-align: left;\n",
       "    }\n",
       "\n",
       "    .dataframe tbody tr th {\n",
       "        vertical-align: top;\n",
       "    }\n",
       "</style>\n",
       "<table border=\"1\" class=\"dataframe\">\n",
       "  <thead>\n",
       "    <tr style=\"text-align: right;\">\n",
       "      <th>symbol</th>\n",
       "      <th>IF88_CTP</th>\n",
       "    </tr>\n",
       "    <tr>\n",
       "      <th>trade_date</th>\n",
       "      <th></th>\n",
       "    </tr>\n",
       "  </thead>\n",
       "  <tbody>\n",
       "    <tr>\n",
       "      <th>2019-02-28 14:55:00</th>\n",
       "      <td>-1.6</td>\n",
       "    </tr>\n",
       "    <tr>\n",
       "      <th>2019-02-28 14:56:00</th>\n",
       "      <td>0.4</td>\n",
       "    </tr>\n",
       "    <tr>\n",
       "      <th>2019-02-28 14:57:00</th>\n",
       "      <td>3.2</td>\n",
       "    </tr>\n",
       "    <tr>\n",
       "      <th>2019-02-28 14:58:00</th>\n",
       "      <td>-0.2</td>\n",
       "    </tr>\n",
       "    <tr>\n",
       "      <th>2019-02-28 14:59:00</th>\n",
       "      <td>-4.6</td>\n",
       "    </tr>\n",
       "  </tbody>\n",
       "</table>\n",
       "</div>"
      ],
      "text/plain": [
       "symbol               IF88_CTP\n",
       "trade_date                   \n",
       "2019-02-28 14:55:00      -1.6\n",
       "2019-02-28 14:56:00       0.4\n",
       "2019-02-28 14:57:00       3.2\n",
       "2019-02-28 14:58:00      -0.2\n",
       "2019-02-28 14:59:00      -4.6"
      ]
     },
     "execution_count": 19,
     "metadata": {},
     "output_type": "execute_result"
    }
   ],
   "source": [
    "gapDt.tail()"
   ]
  },
  {
   "cell_type": "code",
   "execution_count": 20,
   "metadata": {},
   "outputs": [
    {
     "data": {
      "image/png": "[encoded data removed]",
      "text/plain": [
       "<matplotlib.figure.Figure at 0x218f30cbbe0>"
      ]
     },
     "metadata": {},
     "output_type": "display_data"
    }
   ],
   "source": [
    "import matplotlib.pyplot as plt\n",
    "\n",
    "fig = plt.figure(figsize=(15,7))\n",
    "plt.plot(gapDt)\n",
    "plt.show()"
   ]
  },
  {
   "cell_type": "markdown",
   "metadata": {},
   "source": [
    "### 4. talib\n",
    "\n",
    "dv.add_formula('name', \"Ta('Function',0,open, high, low, close, volume)\",add_data=True)"
   ]
  },
  {
   "cell_type": "code",
   "execution_count": 21,
   "metadata": {
    "collapsed": true
   },
   "outputs": [],
   "source": [
    "macdDv = dv15.add_formula('macd', \"Ta('MACD',0,open, high, low, close, volume, 12, 26, 9)\",add_data=True)\n",
    "macdSignalDv = dv15.add_formula('macdSignal', \"Ta('MACD',1,open, high, low, close, volume, 12, 26, 9)\",add_data=True)\n",
    "macdHistDv = dv15.add_formula('macdHist', \"Ta('MACD',2,open, high, low, close, volume, 12, 26, 9)\",add_data=True)"
   ]
  },
  {
   "cell_type": "code",
   "execution_count": 22,
   "metadata": {
    "collapsed": true
   },
   "outputs": [],
   "source": [
    "# 生成DataFrame\n",
    "DataDf = pd.DataFrame(\n",
    "                        {\n",
    "                        'close':dv15.get_ts('close', date_type = 'datetime')['IF88_CTP'],\n",
    "                        'macd' : dv15.get_ts('macd', date_type='datetime')['IF88_CTP'],\n",
    "                        'macdSignal':dv15.get_ts('macdSignal', date_type='datetime')['IF88_CTP'],\n",
    "                        'macdHist':dv15.get_ts('macdHist', date_type='datetime')['IF88_CTP']\n",
    "                        }\n",
    "                      )"
   ]
  },
  {
   "cell_type": "code",
   "execution_count": 23,
   "metadata": {
    "collapsed": true
   },
   "outputs": [],
   "source": [
    "def chartRange(df, n=100):\n",
    "    fig, (ax, ax1) = plt.subplots(2, 1, sharex=True, figsize=(15,10))\n",
    "    ax.plot(df.index[-n:], DataDf.close.iloc[-n:])\n",
    "    ax1.plot(df.index[-n:], DataDf.macd.iloc[-n:])\n",
    "    ax1.plot(df.index[-n:], DataDf.macdSignal.iloc[-n:])\n",
    "    ax1.bar(df.index[-n:], DataDf.macdHist.iloc[-n:], color='green', width=0.8)\n",
    "    plt.show()"
   ]
  },
  {
   "cell_type": "code",
   "execution_count": 24,
   "metadata": {},
   "outputs": [
    {
     "data": {
      "image/png": "[encoded data removed]",
      "text/plain": [
       "<matplotlib.figure.Figure at 0x218f325fa58>"
      ]
     },
     "metadata": {},
     "output_type": "display_data"
    }
   ],
   "source": [
    "chartRange(DataDf, 5000)"
   ]
  },
  {
   "cell_type": "markdown",
   "metadata": {},
   "source": [
    "### 5. 去除停盘时间\n",
    "    1. reset_index\n",
    "    2. strftime时间格式转成字符串\n",
    "    3. xticks设置x轴索引"
   ]
  },
  {
   "cell_type": "code",
   "execution_count": 25,
   "metadata": {
    "collapsed": true
   },
   "outputs": [],
   "source": [
    "dataIf1 = DataDf.reset_index()"
   ]
  },
  {
   "cell_type": "code",
   "execution_count": 26,
   "metadata": {
    "collapsed": true
   },
   "outputs": [],
   "source": [
    "# strftime时间格式转成字符串\n",
    "dataIf1['tradeDateStr'] = list(map(lambda x: x.strftime(format='%Y-%m-%d %H:%M:%S'), list(dataIf1.trade_date)))"
   ]
  },
  {
   "cell_type": "code",
   "execution_count": 27,
   "metadata": {},
   "outputs": [
    {
     "data": {
      "text/html": [
       "<div>\n",
       "<style>\n",
       "    .dataframe thead tr:only-child th {\n",
       "        text-align: right;\n",
       "    }\n",
       "\n",
       "    .dataframe thead th {\n",
       "        text-align: left;\n",
       "    }\n",
       "\n",
       "    .dataframe tbody tr th {\n",
       "        vertical-align: top;\n",
       "    }\n",
       "</style>\n",
       "<table border=\"1\" class=\"dataframe\">\n",
       "  <thead>\n",
       "    <tr style=\"text-align: right;\">\n",
       "      <th></th>\n",
       "      <th>trade_date</th>\n",
       "      <th>close</th>\n",
       "      <th>macd</th>\n",
       "      <th>macdHist</th>\n",
       "      <th>macdSignal</th>\n",
       "      <th>tradeDateStr</th>\n",
       "    </tr>\n",
       "  </thead>\n",
       "  <tbody>\n",
       "    <tr>\n",
       "      <th>2891</th>\n",
       "      <td>2019-02-28 13:45:00</td>\n",
       "      <td>3668.6</td>\n",
       "      <td>-5.885688</td>\n",
       "      <td>-2.157227</td>\n",
       "      <td>-3.728461</td>\n",
       "      <td>2019-02-28 13:45:00</td>\n",
       "    </tr>\n",
       "    <tr>\n",
       "      <th>2892</th>\n",
       "      <td>2019-02-28 14:00:00</td>\n",
       "      <td>3679.2</td>\n",
       "      <td>-6.112784</td>\n",
       "      <td>-1.907458</td>\n",
       "      <td>-4.205326</td>\n",
       "      <td>2019-02-28 14:00:00</td>\n",
       "    </tr>\n",
       "    <tr>\n",
       "      <th>2893</th>\n",
       "      <td>2019-02-28 14:15:00</td>\n",
       "      <td>3678.6</td>\n",
       "      <td>-6.268910</td>\n",
       "      <td>-1.650868</td>\n",
       "      <td>-4.618043</td>\n",
       "      <td>2019-02-28 14:15:00</td>\n",
       "    </tr>\n",
       "    <tr>\n",
       "      <th>2894</th>\n",
       "      <td>2019-02-28 14:30:00</td>\n",
       "      <td>3671.2</td>\n",
       "      <td>-6.910104</td>\n",
       "      <td>-1.833649</td>\n",
       "      <td>-5.076455</td>\n",
       "      <td>2019-02-28 14:30:00</td>\n",
       "    </tr>\n",
       "    <tr>\n",
       "      <th>2895</th>\n",
       "      <td>2019-02-28 14:45:00</td>\n",
       "      <td>3677.4</td>\n",
       "      <td>-6.839130</td>\n",
       "      <td>-1.410140</td>\n",
       "      <td>-5.428990</td>\n",
       "      <td>2019-02-28 14:45:00</td>\n",
       "    </tr>\n",
       "  </tbody>\n",
       "</table>\n",
       "</div>"
      ],
      "text/plain": [
       "              trade_date   close      macd  macdHist  macdSignal  \\\n",
       "2891 2019-02-28 13:45:00  3668.6 -5.885688 -2.157227   -3.728461   \n",
       "2892 2019-02-28 14:00:00  3679.2 -6.112784 -1.907458   -4.205326   \n",
       "2893 2019-02-28 14:15:00  3678.6 -6.268910 -1.650868   -4.618043   \n",
       "2894 2019-02-28 14:30:00  3671.2 -6.910104 -1.833649   -5.076455   \n",
       "2895 2019-02-28 14:45:00  3677.4 -6.839130 -1.410140   -5.428990   \n",
       "\n",
       "             tradeDateStr  \n",
       "2891  2019-02-28 13:45:00  \n",
       "2892  2019-02-28 14:00:00  \n",
       "2893  2019-02-28 14:15:00  \n",
       "2894  2019-02-28 14:30:00  \n",
       "2895  2019-02-28 14:45:00  "
      ]
     },
     "execution_count": 27,
     "metadata": {},
     "output_type": "execute_result"
    }
   ],
   "source": [
    "dataIf1.tail()"
   ]
  },
  {
   "cell_type": "code",
   "execution_count": 28,
   "metadata": {
    "collapsed": true
   },
   "outputs": [],
   "source": [
    "def chartRange(data, n=100):\n",
    "    fig, (ax, ax1) = plt.subplots(2, 1, sharex=True, figsize=(15,10))\n",
    "    ax.plot(data.index[-n:], data.close.iloc[-n:])\n",
    "    ax1.plot(data.index[-n:], data.macd.iloc[-n:])\n",
    "    ax1.plot(data.index[-n:], data.macdSignal.iloc[-n:])\n",
    "    ax1.bar(data.index[-n:], data.macdHist.iloc[-n:], color='green', width=0.8)\n",
    "    plt.xticks([data.index[-n:][0], data.index[-n:][int(n/2)], data.index[-n:][-1]],\n",
    "               [data.tradeDateStr.iloc[0],data.tradeDateStr.iloc[int(n/2)], data.tradeDateStr.iloc[-1]])\n",
    "    plt.show()"
   ]
  },
  {
   "cell_type": "code",
   "execution_count": 29,
   "metadata": {},
   "outputs": [
    {
     "data": {
      "image/png": "[encoded data removed]",
      "text/plain": [
       "<matplotlib.figure.Figure at 0x218fc364128>"
      ]
     },
     "metadata": {},
     "output_type": "display_data"
    }
   ],
   "source": [
    "chartRange(dataIf1, n=1000)"
   ]
  },
  {
   "cell_type": "markdown",
   "metadata": {},
   "source": [
    "### 6. 观察并设计算法\n",
    "    1. 0轴区分\n",
    "    2. 金叉死叉\n",
    "    3. 二次金叉与死叉\n",
    "    4. macd与macdSignal同涨同跌\n",
    "    5. macdHist的下降与上升\n",
    "    6. macdHist第五元素"
   ]
  },
  {
   "cell_type": "raw",
   "metadata": {},
   "source": [
    "策略一\n",
    "long: (macd[-1]>0 and goldenCross) \n",
    "\n",
    "short: (macd[-1]<0 and deathCross) "
   ]
  },
  {
   "cell_type": "raw",
   "metadata": {},
   "source": [
    "策略二\n",
    "long: macd[-1]>0 and macd[-2]<0 and macd[-1]>macd[-3] and macdSignal[-1]>macdSignal[-3]\n",
    "\n",
    "short: macd[-1]<0 and macd[-2]>0 and macd[-1]<macd[-3] and macdSignal[-1]<macdSignal[-3]"
   ]
  },
  {
   "cell_type": "raw",
   "metadata": {},
   "source": [
    "策略三\n",
    "long: macd[-1]<0 and secondGoldenCross\n",
    "short: macd[-1]>0 and secondDeathCross"
   ]
  },
  {
   "cell_type": "raw",
   "metadata": {},
   "source": [
    "策略四\n",
    "long: macd[-1]<0 and macdHistFiveUp\n",
    "\n",
    "short: macd[-1]>0 and macdHistFiveDn"
   ]
  },
  {
   "cell_type": "raw",
   "metadata": {},
   "source": [
    "策略五\n",
    "long: macd[-1]>0 and macdHistFiveDn and macdHistUp\n",
    "\n",
    "short: macd[-1]<0 and macdHistFiveUp and macdHistDn"
   ]
  },
  {
   "cell_type": "markdown",
   "metadata": {},
   "source": [
    "## 三、 进场&时间出场&&止损止盈\n",
    "    1. 将策略一在15Min周期下构建信号\n",
    "    2. 设置固定持有时间/设置止损止盈\n",
    "    3. 信号绩效评估"
   ]
  },
  {
   "cell_type": "code",
   "execution_count": 30,
   "metadata": {},
   "outputs": [
    {
     "name": "stderr",
     "output_type": "stream",
     "text": [
      "D:\\Anaconda3\\lib\\site-packages\\jaqs\\data\\py_expression_eval.py:477: RuntimeWarning: invalid value encountered in greater\n",
      "  res = arr > brr\n",
      "D:\\Anaconda3\\lib\\site-packages\\jaqs\\data\\py_expression_eval.py:504: RuntimeWarning: invalid value encountered in less_equal\n",
      "  res = arr <= brr\n",
      "D:\\Anaconda3\\lib\\site-packages\\jaqs\\data\\py_expression_eval.py:486: RuntimeWarning: invalid value encountered in less\n",
      "  res = arr < brr\n",
      "D:\\Anaconda3\\lib\\site-packages\\jaqs\\data\\py_expression_eval.py:495: RuntimeWarning: invalid value encountered in greater_equal\n",
      "  res = arr >= brr\n"
     ]
    }
   ],
   "source": [
    "# 进场信号\n",
    "long = dv15.add_formula(\"long\",\"If(macd>0 && (Delay(macd,2)<=Delay(macdSignal,2) && macd>macdSignal),2,0)\", add_data=True)\n",
    "short = dv15.add_formula(\"short\",\"If(macd<0 && (Delay(macd,2)>=Delay(macdSignal,2) && macd<macdSignal),-2,0)\", add_data=True)\n",
    "\n",
    "# 出场信号\n",
    "close_long = dv15.add_formula(\"closeLong\",\"If(short==-2,1,0)\", add_data=True)\n",
    "close_short = dv15.add_formula(\"closeShort\",\"If(long==2,-1,0)\", add_data=True)"
   ]
  },
  {
   "cell_type": "code",
   "execution_count": 31,
   "metadata": {
    "collapsed": true
   },
   "outputs": [],
   "source": [
    "# long.iloc[800:-500]"
   ]
  },
  {
   "cell_type": "code",
   "execution_count": 32,
   "metadata": {},
   "outputs": [
    {
     "name": "stderr",
     "output_type": "stream",
     "text": [
      "D:\\Anaconda3\\lib\\importlib\\__init__.py:126: FutureWarning: The pandas.core.datetools module is deprecated and will be removed in a future version. Please use the pandas.tseries module instead.\n",
      "  return _bootstrap._gcd_import(name[level:], package, level)\n",
      "D:\\Anaconda3\\lib\\site-packages\\matplotlib\\__init__.py:1405: UserWarning: \n",
      "This call to matplotlib.use() has no effect because the backend has already\n",
      "been chosen; matplotlib.use() must be called *before* pylab, matplotlib.pyplot,\n",
      "or matplotlib.backends is imported for the first time.\n",
      "\n",
      "  warnings.warn(_use_error_msg)\n"
     ]
    }
   ],
   "source": [
    "from jaqs_fxdayu.research import TimingDigger\n",
    "\n",
    "# step 1：实例化TimingDigger 通过output_folder和output_format指定测试报告的输出路径和输出格式，通过signal_name指定绩效文件名称\n",
    "td1 = TimingDigger(output_folder=\".\", output_format='pdf',signal_name='macdSignal1')\n",
    "tdSlTp = TimingDigger(output_folder=\".\", output_format='pdf',signal_name='macdSignal1SlTp')\n",
    "\n",
    "def TimingSignal(instantiation=td1, mhp=None, sl=None, tp=None):\n",
    "    #多空分别计算一遍 输出汇总结果\n",
    "    instantiation.process_signal(\n",
    "        enter_signal=dv15.get_ts(\"long\"),\n",
    "        exit_signal=dv15.get_ts(\"closeLong\"),\n",
    "        sig_type=\"long\",  # 信号类型 long/short\n",
    "        price=dv15.get_ts(\"close\"),\n",
    "        max_holding_period=mhp,  # 最大持有天数 可为空\n",
    "        stoploss=-sl if sl else None,  # 止损百分比 负数 可为空\n",
    "        stopprofit=None,  # 止盈百分比 正数 可为空\n",
    "    )\n",
    "\n",
    "    instantiation.process_signal(\n",
    "        enter_signal=dv15.get_ts(\"short\"),\n",
    "        exit_signal=dv15.get_ts(\"closeShort\"),\n",
    "        sig_type=\"short\",  # 信号类型 long/short\n",
    "        price=dv15.get_ts(\"close\"),\n",
    "        max_holding_period=mhp,  # 最大持有Bar数 可为空\n",
    "        stoploss=-sl if sl else None,  # 止损百分比 负数 可为空\n",
    "        stopprofit=None,  # 止盈百分比 正数 可为空\n",
    "    )"
   ]
  },
  {
   "cell_type": "code",
   "execution_count": 33,
   "metadata": {
    "collapsed": true
   },
   "outputs": [],
   "source": [
    "# td1.process_signal?"
   ]
  },
  {
   "cell_type": "code",
   "execution_count": 34,
   "metadata": {},
   "outputs": [
    {
     "name": "stdout",
     "output_type": "stream",
     "text": [
      "Nan Data Count (should be zero) : 0;  Percentage of effective data: 4%\n",
      "Nan Data Count (should be zero) : 0;  Percentage of effective data: 4%\n"
     ]
    }
   ],
   "source": [
    "TimingSignal(td1, 50)"
   ]
  },
  {
   "cell_type": "code",
   "execution_count": 35,
   "metadata": {},
   "outputs": [
    {
     "name": "stdout",
     "output_type": "stream",
     "text": [
      "Figure saved: C:\\Users\\small\\Desktop\\June2019\\时间序列课件\\HFDataviewSignalDigger\\macdSignal1/long_entry_exit_position/IF88_CTP.pdf\n",
      "*****-Summary-*****\n",
      "Event Analysis\n",
      "                       win    loss      all\n",
      "t-stat               8.458 -10.150    0.962\n",
      "p-value              0.000   0.000    0.338\n",
      "mean                 0.020  -0.012    0.002\n",
      "std                  0.017   0.010    0.021\n",
      "info_ratio           1.151  -1.222    0.086\n",
      "skewness             0.728  -1.183    0.706\n",
      "kurtosis            -0.879   0.540    0.323\n",
      "pct5                 0.002  -0.036   -0.032\n",
      "pct25                0.005  -0.017   -0.011\n",
      "pct50                0.014  -0.010   -0.002\n",
      "pct75                0.034  -0.005    0.012\n",
      "pct95                0.051  -0.002    0.048\n",
      "occurance           55.000  70.000  125.000\n",
      "win_ratio              NaN     NaN    0.440\n",
      "win_mean/loss_mean     NaN     NaN    1.608\n"
     ]
    }
   ],
   "source": [
    "td1.create_event_report(sig_type=\"long\",\n",
    "                       by_symbol=True)"
   ]
  },
  {
   "cell_type": "code",
   "execution_count": 36,
   "metadata": {},
   "outputs": [
    {
     "name": "stdout",
     "output_type": "stream",
     "text": [
      "Figure saved: C:\\Users\\small\\Desktop\\June2019\\时间序列课件\\HFDataviewSignalDigger\\macdSignal1/short_entry_exit_position/IF88_CTP.pdf\n",
      "*****-Summary-*****\n",
      "Event Analysis\n",
      "                       win    loss      all\n",
      "t-stat               8.879 -13.747    1.112\n",
      "p-value              0.000   0.000    0.268\n",
      "mean                 0.025  -0.009    0.002\n",
      "std                  0.017   0.006    0.019\n",
      "info_ratio           1.480  -1.598    0.106\n",
      "skewness             0.723  -0.344    1.348\n",
      "kurtosis            -0.298  -1.177    1.227\n",
      "pct5                 0.002  -0.019   -0.018\n",
      "pct25                0.017  -0.015   -0.010\n",
      "pct50                0.023  -0.008   -0.004\n",
      "pct75                0.026  -0.004    0.016\n",
      "pct95                0.057  -0.002    0.049\n",
      "occurance           37.000  75.000  112.000\n",
      "win_ratio              NaN     NaN    0.330\n",
      "win_mean/loss_mean     NaN     NaN    2.696\n"
     ]
    }
   ],
   "source": [
    "td1.create_event_report(sig_type=\"short\",\n",
    "                       by_symbol=True)"
   ]
  },
  {
   "cell_type": "code",
   "execution_count": 37,
   "metadata": {},
   "outputs": [
    {
     "name": "stdout",
     "output_type": "stream",
     "text": [
      "Figure saved: C:\\Users\\small\\Desktop\\June2019\\时间序列课件\\HFDataviewSignalDigger\\macdSignal1/long_short_entry_exit_position/IF88_CTP.pdf\n",
      "*****-Summary-*****\n",
      "Event Analysis\n",
      "                       win     loss      all\n",
      "t-stat              12.099  -15.445    1.457\n",
      "p-value              0.000    0.000    0.146\n",
      "mean                 0.022   -0.011    0.002\n",
      "std                  0.017    0.008    0.020\n",
      "info_ratio           1.268   -1.287    0.095\n",
      "skewness             0.693   -1.390    0.964\n",
      "kurtosis            -0.665    2.011    0.701\n",
      "pct5                 0.002   -0.029   -0.020\n",
      "pct25                0.006   -0.015   -0.011\n",
      "pct50                0.018   -0.009   -0.003\n",
      "pct75                0.033   -0.005    0.013\n",
      "pct95                0.054   -0.002    0.049\n",
      "occurance           92.000  145.000  237.000\n",
      "win_ratio              NaN      NaN    0.388\n",
      "win_mean/loss_mean     NaN      NaN    2.037\n"
     ]
    }
   ],
   "source": [
    "td1.create_event_report(sig_type=\"long_short\",\n",
    "                       by_symbol=True)"
   ]
  },
  {
   "cell_type": "code",
   "execution_count": 38,
   "metadata": {},
   "outputs": [
    {
     "name": "stdout",
     "output_type": "stream",
     "text": [
      "Nan Data Count (should be zero) : 0;  Percentage of effective data: 4%\n",
      "Nan Data Count (should be zero) : 0;  Percentage of effective data: 4%\n"
     ]
    }
   ],
   "source": [
    "TimingSignal(tdSlTp, 50, 0.02, 0.08)"
   ]
  },
  {
   "cell_type": "code",
   "execution_count": 39,
   "metadata": {},
   "outputs": [
    {
     "name": "stdout",
     "output_type": "stream",
     "text": [
      "Figure saved: C:\\Users\\small\\Desktop\\June2019\\时间序列课件\\HFDataviewSignalDigger\\macdSignal1SlTp/long_short_entry_exit_position/IF88_CTP.pdf\n",
      "*****-Summary-*****\n",
      "Event Analysis\n",
      "                       win     loss      all\n",
      "t-stat              12.383  -18.265    1.468\n",
      "p-value              0.000    0.000    0.144\n",
      "mean                 0.023   -0.011    0.002\n",
      "std                  0.017    0.007    0.020\n",
      "info_ratio           1.320   -1.506    0.096\n",
      "skewness             0.672   -0.452    1.131\n",
      "kurtosis            -0.697   -1.058    0.671\n",
      "pct5                 0.002   -0.022   -0.022\n",
      "pct25                0.008   -0.016   -0.011\n",
      "pct50                0.019   -0.009   -0.004\n",
      "pct75                0.033   -0.005    0.013\n",
      "pct95                0.054   -0.002    0.049\n",
      "occurance           89.000  148.000  237.000\n",
      "win_ratio              NaN      NaN    0.376\n",
      "win_mean/loss_mean     NaN      NaN    2.145\n"
     ]
    }
   ],
   "source": [
    "tdSlTp.create_event_report(sig_type=\"long_short\",\n",
    "                       by_symbol=True)"
   ]
  },
  {
   "cell_type": "code",
   "execution_count": null,
   "metadata": {
    "collapsed": true
   },
   "outputs": [],
   "source": []
  }
 ],
 "metadata": {
  "kernelspec": {
   "display_name": "Python 3",
   "language": "python",
   "name": "python3"
  },
  "language_info": {
   "codemirror_mode": {
    "name": "ipython",
    "version": 3
   },
   "file_extension": ".py",
   "mimetype": "text/x-python",
   "name": "python",
   "nbconvert_exporter": "python",
   "pygments_lexer": "ipython3",
   "version": "3.6.1"
  }
 },
 "nbformat": 4,
 "nbformat_minor": 2
}
